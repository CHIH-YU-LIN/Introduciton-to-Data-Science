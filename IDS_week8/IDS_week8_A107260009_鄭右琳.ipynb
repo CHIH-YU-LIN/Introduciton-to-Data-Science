{
 "cells": [
  {
   "cell_type": "code",
   "execution_count": 1,
   "metadata": {},
   "outputs": [
    {
     "name": "stdout",
     "output_type": "stream",
     "text": [
      "請輸入球員身高(公尺):1.7\n",
      "請輸入球員體重(公斤):52\n",
      "17.99307958477509\n",
      "Underweight\n"
     ]
    }
   ],
   "source": [
    "player_height = float(input(\"請輸入球員身高(公尺):\"))\n",
    "player_weight = float(input(\"請輸入球員體重(公斤):\"))\n",
    "player_bmi = player_weight / player_height**2\n",
    "bmi_label = None\n",
    "if player_bmi > 30:\n",
    "    bmi_label = 'Obese'\n",
    "if player_bmi <= 30 and player_bmi > 25:\n",
    "    bmi_label = 'Overweight'\n",
    "if player_bmi <= 25 and player_bmi > 18.5:\n",
    "    bmi_label = 'Normal weight'\n",
    "if player_bmi <= 18.5:\n",
    "    bmi_label = 'Underweight'\n",
    "print(player_bmi)\n",
    "print(bmi_label)"
   ]
  },
  {
   "cell_type": "code",
   "execution_count": 2,
   "metadata": {},
   "outputs": [
    {
     "name": "stdout",
     "output_type": "stream",
     "text": [
      "First branch\n"
     ]
    }
   ],
   "source": [
    "if True:\n",
    "    print(\"First branch\")\n",
    "elif True:\n",
    "    print(\"Second branch\")\n",
    "elif True:\n",
    "    print(\"Third branch\")"
   ]
  },
  {
   "cell_type": "code",
   "execution_count": 3,
   "metadata": {},
   "outputs": [
    {
     "name": "stdout",
     "output_type": "stream",
     "text": [
      "請輸入一個正整數:15\n",
      "Fizz\n",
      "Buzz\n"
     ]
    }
   ],
   "source": [
    "user_int = int(input(\"請輸入一個正整數:\"))\n",
    "if user_int % 3 == 0:\n",
    "    print(\"Fizz\")\n",
    "if user_int % 5 == 0:\n",
    "    print(\"Buzz\")"
   ]
  },
  {
   "cell_type": "code",
   "execution_count": 4,
   "metadata": {},
   "outputs": [
    {
     "name": "stdout",
     "output_type": "stream",
     "text": [
      "請輸入一個正整數:16\n",
      "16\n"
     ]
    }
   ],
   "source": [
    "user_int = int(input(\"請輸入一個正整數:\"))\n",
    "if user_int % 15 == 0:\n",
    "    print(\"Fizz Buzz\")\n",
    "elif user_int % 5 == 0:\n",
    "    print(\"Buzz\")\n",
    "elif user_int % 3 == 0:\n",
    "    print(\"Fizz\")\n",
    "else:\n",
    "    print(user_int)"
   ]
  },
  {
   "cell_type": "code",
   "execution_count": 5,
   "metadata": {},
   "outputs": [
    {
     "name": "stdout",
     "output_type": "stream",
     "text": [
      "2\n",
      "4\n",
      "6\n",
      "8\n",
      "10\n",
      "12\n",
      "14\n",
      "16\n",
      "18\n",
      "20\n"
     ]
    }
   ],
   "source": [
    "i = 2\n",
    "while i <= 20:\n",
    "    print(i)\n",
    "    i += 2"
   ]
  },
  {
   "cell_type": "code",
   "execution_count": 6,
   "metadata": {},
   "outputs": [
    {
     "name": "stdout",
     "output_type": "stream",
     "text": [
      "1\n",
      "2\n",
      "3\n",
      "4\n",
      "5\n",
      "6\n",
      "7\n",
      "8\n",
      "9\n",
      "10\n",
      "While loop is done.\n"
     ]
    }
   ],
   "source": [
    "i = 1\n",
    "while i <= 10:\n",
    "    print(i)\n",
    "    i += 1\n",
    "print(\"While loop is done.\")"
   ]
  },
  {
   "cell_type": "code",
   "execution_count": 7,
   "metadata": {},
   "outputs": [
    {
     "name": "stdout",
     "output_type": "stream",
     "text": [
      "10\n"
     ]
    }
   ],
   "source": [
    "i = 1\n",
    "counter = 0\n",
    "while i <= 10:\n",
    "    counter += 1\n",
    "    i += 1\n",
    "print(counter)"
   ]
  },
  {
   "cell_type": "code",
   "execution_count": 8,
   "metadata": {},
   "outputs": [
    {
     "name": "stdout",
     "output_type": "stream",
     "text": [
      "5\n"
     ]
    }
   ],
   "source": [
    "i = 1\n",
    "counter = 0\n",
    "while i <= 10:\n",
    "    if i % 2 == 0:\n",
    "        counter += 1\n",
    "    i += 1\n",
    "print(counter)"
   ]
  },
  {
   "cell_type": "code",
   "execution_count": 9,
   "metadata": {},
   "outputs": [
    {
     "name": "stdout",
     "output_type": "stream",
     "text": [
      "5050\n"
     ]
    }
   ],
   "source": [
    "i = 1\n",
    "summation = 0\n",
    "while i <= 100:\n",
    "    summation += i\n",
    "    i += 1\n",
    "print(summation)"
   ]
  },
  {
   "cell_type": "code",
   "execution_count": 10,
   "metadata": {},
   "outputs": [
    {
     "name": "stdout",
     "output_type": "stream",
     "text": [
      "請輸入起始的正整數:55\n",
      "請輸入終止的正整數66\n",
      "55\n",
      "56\n",
      "57\n",
      "58\n",
      "59\n",
      "60\n",
      "61\n",
      "62\n",
      "63\n",
      "64\n",
      "65\n",
      "66\n"
     ]
    }
   ],
   "source": [
    "x = int(input(\"請輸入起始的正整數:\"))\n",
    "y = int(input(\"請輸入終止的正整數\"))\n",
    "i = x\n",
    "while i <= y:\n",
    "    print(i)\n",
    "    i += 1"
   ]
  },
  {
   "cell_type": "code",
   "execution_count": 11,
   "metadata": {},
   "outputs": [
    {
     "name": "stdout",
     "output_type": "stream",
     "text": [
      "請輸入起始的正整數:55\n",
      "請輸入終止的正整數66\n",
      "55\n",
      "57\n",
      "59\n",
      "61\n",
      "63\n",
      "65\n"
     ]
    }
   ],
   "source": [
    "x = int(input(\"請輸入起始的正整數:\"))\n",
    "y = int(input(\"請輸入終止的正整數\"))\n",
    "i = x\n",
    "while i <= y:\n",
    "    if i % 2 == 1:\n",
    "        print(i)\n",
    "    i += 1"
   ]
  },
  {
   "cell_type": "code",
   "execution_count": null,
   "metadata": {},
   "outputs": [],
   "source": []
  }
 ],
 "metadata": {
  "kernelspec": {
   "display_name": "Python 3",
   "language": "python",
   "name": "python3"
  },
  "language_info": {
   "codemirror_mode": {
    "name": "ipython",
    "version": 3
   },
   "file_extension": ".py",
   "mimetype": "text/x-python",
   "name": "python",
   "nbconvert_exporter": "python",
   "pygments_lexer": "ipython3",
   "version": "3.7.6"
  }
 },
 "nbformat": 4,
 "nbformat_minor": 4
}
