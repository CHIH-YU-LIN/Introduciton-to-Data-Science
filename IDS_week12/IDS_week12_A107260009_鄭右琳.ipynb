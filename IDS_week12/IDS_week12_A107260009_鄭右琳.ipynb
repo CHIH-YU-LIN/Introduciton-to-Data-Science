{
 "cells": [
  {
   "cell_type": "code",
   "execution_count": 2,
   "metadata": {},
   "outputs": [
    {
     "name": "stdout",
     "output_type": "stream",
     "text": [
      "請輸入起始的正整數：1\n",
      "請輸入終止的正整數：50\n",
      "1\n",
      "2\n",
      "3\n",
      "4\n",
      "5\n",
      "6\n",
      "7\n",
      "8\n",
      "9\n",
      "10\n",
      "11\n",
      "12\n",
      "13\n",
      "14\n",
      "15\n",
      "16\n",
      "17\n",
      "18\n",
      "19\n",
      "20\n",
      "21\n",
      "22\n",
      "23\n",
      "24\n",
      "25\n",
      "26\n",
      "27\n",
      "28\n",
      "29\n",
      "30\n",
      "31\n",
      "32\n",
      "33\n",
      "34\n",
      "35\n",
      "36\n",
      "37\n",
      "38\n",
      "39\n",
      "40\n",
      "41\n",
      "42\n",
      "43\n",
      "44\n",
      "45\n",
      "46\n",
      "47\n",
      "48\n",
      "49\n",
      "50\n"
     ]
    }
   ],
   "source": [
    "x = int(input(\"請輸入起始的正整數：\")) \n",
    "y = int(input(\"請輸入終止的正整數：\"))\n",
    "for i in range(x, y+1):\n",
    "  print(i)"
   ]
  },
  {
   "cell_type": "code",
   "execution_count": 1,
   "metadata": {},
   "outputs": [
    {
     "name": "stdout",
     "output_type": "stream",
     "text": [
      "請輸入起始的正整數：10\n",
      "請輸入終止的正整數：80\n",
      "[11, 13, 15, 17, 19, 21, 23, 25, 27, 29, 31, 33, 35, 37, 39, 41, 43, 45, 47, 49, 51, 53, 55, 57, 59, 61, 63, 65, 67, 69, 71, 73, 75, 77, 79]\n"
     ]
    }
   ],
   "source": [
    "x = int(input(\"請輸入起始的正整數：\")) \n",
    "y = int(input(\"請輸入終止的正整數：\"))\n",
    "odds = [] # 空的list\n",
    "for i in range(x, y+1):\n",
    "  mod = i % 2\n",
    "  if mod == 1:\n",
    "    odds.append(i)\n",
    "print(odds)"
   ]
  },
  {
   "cell_type": "code",
   "execution_count": 2,
   "metadata": {},
   "outputs": [
    {
     "name": "stdout",
     "output_type": "stream",
     "text": [
      "請輸入一個正整數：30\n",
      "[1, 2, 3, 4, 5, 6, 7, 8, 9, 10, 11, 12, 13, 14, 15, 16, 17, 18, 19, 20, 21, 22, 23, 24, 25, 26, 27, 28, 29, 30]\n",
      "30不是質數\n"
     ]
    }
   ],
   "source": [
    "user_int = int(input(\"請輸入一個正整數：\"))\n",
    "divisors = [] # 因數分解\n",
    "for i in range(1, user_int+1):\n",
    "  if user_int % 1 == 0:\n",
    "    divisors.append(i)\n",
    "print(divisors)\n",
    "n_divisors = len(divisors)\n",
    "if n_divisors == 2 :\n",
    "  print(\"{}是質數\".format(user_int))\n",
    "else:\n",
    "  print(\"{}不是質數\".format(user_int))"
   ]
  },
  {
   "cell_type": "code",
   "execution_count": 5,
   "metadata": {},
   "outputs": [
    {
     "name": "stdout",
     "output_type": "stream",
     "text": [
      "[862, 331, 617, 429, 367, 782, 13, 202, 594, 849, 472, 87, 979, 801, 974, 572, 425, 320, 712, 172, 226, 830, 745, 165, 449, 373, 10, 632, 772, 616, 151, 743, 183, 872, 136, 211, 298, 146, 473, 343, 785, 877, 736, 352, 245, 34, 927, 548, 892, 26, 797, 627, 519, 104, 407, 521, 937, 846, 194, 781, 20, 612, 664, 125, 145, 444, 487, 316, 46, 559, 952, 257, 644, 74, 965, 54, 92, 723, 598, 982, 74, 832, 408, 813, 533, 269, 506, 265, 875, 177, 683, 211, 762, 664, 626, 332, 267, 5, 885, 362]\n",
      "100\n",
      "982\n",
      "5\n",
      "[5, 519, 521, 10, 13, 20, 533, 26, 34, 548, 46, 559, 54, 572, 74, 594, 598, 87, 92, 612, 616, 617, 104, 626, 627, 632, 125, 644, 136, 145, 146, 151, 664, 165, 683, 172, 177, 183, 194, 712, 202, 211, 723, 736, 226, 743, 745, 245, 762, 257, 772, 265, 267, 781, 782, 269, 785, 797, 801, 298, 813, 316, 830, 320, 832, 331, 332, 846, 849, 343, 862, 352, 872, 362, 875, 877, 367, 373, 885, 892, 407, 408, 927, 425, 937, 429, 952, 444, 449, 965, 974, 979, 982, 472, 473, 487, 506]\n",
      "10\n",
      "979\n"
     ]
    }
   ],
   "source": [
    "# random 產生 1 個隨機數\n",
    "import random\n",
    "\n",
    "random.randint(1, 1000)\n",
    "# random 產生 100 個隨機數\n",
    "random_integers = [] # 隨機數\n",
    "for i in range(100): # 產生個數\n",
    "  rand_int = random.randint(1, 1000) # 範圍\n",
    "  random_integers.append(rand_int)\n",
    "print(random_integers)\n",
    "print(len(random_integers))\n",
    "# 找出第一大與第一小的數字\n",
    "print(max(random_integers))\n",
    "print(min(random_integers))\n",
    "# 找出第二大與第二小的數字\n",
    "rand_int_unique = set(random_integers)\n",
    "rand_int_unique_list = list(rand_int_unique)\n",
    "print(rand_int_unique_list)\n",
    "rand_int_unique_list.sort()\n",
    "print(rand_int_unique_list[1]) # second min\n",
    "print(rand_int_unique_list[-2]) # second max"
   ]
  },
  {
   "cell_type": "code",
   "execution_count": 6,
   "metadata": {},
   "outputs": [
    {
     "name": "stdout",
     "output_type": "stream",
     "text": [
      "[0, 1, 4, 9, 16, 25, 36, 49, 64, 81]\n"
     ]
    }
   ],
   "source": [
    "squared = []\n",
    "for i in range(10):\n",
    "  squared.append(i**2)\n",
    "print(squared)"
   ]
  },
  {
   "cell_type": "code",
   "execution_count": 7,
   "metadata": {},
   "outputs": [
    {
     "name": "stdout",
     "output_type": "stream",
     "text": [
      "[0, 1, 4, 9, 16, 25, 36, 49, 64, 81]\n"
     ]
    }
   ],
   "source": [
    "squared = [i**2 for i in range(10)] \n",
    "print(squared)"
   ]
  },
  {
   "cell_type": "code",
   "execution_count": 8,
   "metadata": {},
   "outputs": [
    {
     "name": "stdout",
     "output_type": "stream",
     "text": [
      "[1, 9, 25, 49, 81]\n"
     ]
    }
   ],
   "source": [
    "odds_squared = []\n",
    "for i in range(10):\n",
    "  if i % 2 == 1:\n",
    "    odds_squared.append(i**2)\n",
    "print(odds_squared)"
   ]
  },
  {
   "cell_type": "code",
   "execution_count": 9,
   "metadata": {},
   "outputs": [
    {
     "name": "stdout",
     "output_type": "stream",
     "text": [
      "[1, 9, 25, 49, 81]\n"
     ]
    }
   ],
   "source": [
    "odds_squared =[i**2 for i in range(10) if i % 2 == 1]\n",
    "print(odds_squared)"
   ]
  },
  {
   "cell_type": "code",
   "execution_count": 10,
   "metadata": {},
   "outputs": [
    {
     "name": "stdout",
     "output_type": "stream",
     "text": [
      "[52, 67, 43, 100, 57, 20, 28, 88, 16, 49]\n",
      "[False, True, True, False, True, False, False, False, False, True]\n"
     ]
    }
   ],
   "source": [
    "random_integers = [random.randint(1, 100) for i in range(10)]\n",
    "is_odd_ints = []\n",
    "for i in random_integers:\n",
    "  if i % 2 == 1:\n",
    "    is_odd_ints.append(True)\n",
    "  else:\n",
    "    is_odd_ints.append(False)\n",
    "print(random_integers)\n",
    "print(is_odd_ints)"
   ]
  },
  {
   "cell_type": "code",
   "execution_count": 11,
   "metadata": {},
   "outputs": [
    {
     "name": "stdout",
     "output_type": "stream",
     "text": [
      "[85, 39, 98, 32, 13, 1, 39, 9, 58, 5, 91, 2, 72, 17, 85, 87, 52, 68, 54, 14]\n",
      "[True, True, False, False, True, True, True, True, False, True, True, False, False, True, True, True, False, False, False, False]\n"
     ]
    }
   ],
   "source": [
    "random_integers = [random.randint(1, 100) for i in range(20)]\n",
    "is_odd_ints = [True if i % 2 == 1 else False for i in random_integers]\n",
    "print(random_integers)\n",
    "print(is_odd_ints)"
   ]
  },
  {
   "cell_type": "code",
   "execution_count": 12,
   "metadata": {},
   "outputs": [
    {
     "name": "stdout",
     "output_type": "stream",
     "text": [
      "[8.1, 8.5, 8.8]\n"
     ]
    }
   ],
   "source": [
    "avengers_ratings = [8.1, 7.3, 8.5, 8.8] \n",
    "recommendations = [i for i in avengers_ratings if i >= 8] \n",
    "print(recommendations)"
   ]
  },
  {
   "cell_type": "code",
   "execution_count": 13,
   "metadata": {},
   "outputs": [
    {
     "name": "stdout",
     "output_type": "stream",
     "text": [
      "第 1 部上映的復仇者聯盟電影:The Avengers\n",
      "第 2 部上映的復仇者聯盟電影:Avengers: Age of Ultron\n",
      "第 3 部上映的復仇者聯盟電影:Avengers: Infinity War\n",
      "第 4 部上映的復仇者聯盟電影:Avengers: Endgame\n"
     ]
    }
   ],
   "source": [
    "avengers = [\"The Avengers\", \"Avengers: Age of Ultron\", \"Avengers: Infinity War\", \"Avengers: Endgame\"]\n",
    "for idx, movie in enumerate(avengers):\n",
    "    print(\"第 {} 部上映的復仇者聯盟電影:{}\".format(idx+1, movie))"
   ]
  },
  {
   "cell_type": "code",
   "execution_count": 14,
   "metadata": {},
   "outputs": [
    {
     "name": "stdout",
     "output_type": "stream",
     "text": [
      "The Avengers上映的年份是2012\n",
      "Avengers: Age of Ultron上映的年份是2015\n",
      "Avengers: Infinity War上映的年份是2018\n",
      "Avengers: Endgame上映的年份是2019\n"
     ]
    }
   ],
   "source": [
    "years = [2012, 2015, 2018, 2019]\n",
    "for year, movie in zip(years, avengers):\n",
    "    print(\"{}上映的年份是{}\".format(movie, year))"
   ]
  },
  {
   "cell_type": "code",
   "execution_count": null,
   "metadata": {},
   "outputs": [],
   "source": []
  }
 ],
 "metadata": {
  "kernelspec": {
   "display_name": "Python 3",
   "language": "python",
   "name": "python3"
  },
  "language_info": {
   "codemirror_mode": {
    "name": "ipython",
    "version": 3
   },
   "file_extension": ".py",
   "mimetype": "text/x-python",
   "name": "python",
   "nbconvert_exporter": "python",
   "pygments_lexer": "ipython3",
   "version": "3.7.6"
  }
 },
 "nbformat": 4,
 "nbformat_minor": 4
}
