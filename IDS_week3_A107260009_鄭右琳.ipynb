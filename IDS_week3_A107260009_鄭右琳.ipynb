{
  "nbformat": 4,
  "nbformat_minor": 0,
  "metadata": {
    "colab": {
      "name": "week3-A107260009-鄭右琳.ipynb",
      "provenance": [],
      "collapsed_sections": [],
      "authorship_tag": "ABX9TyP0I3hUiiu5kW1ZrXX9IvSj",
      "include_colab_link": true
    },
    "kernelspec": {
      "name": "python3",
      "display_name": "Python 3"
    }
  },
  "cells": [
    {
      "cell_type": "markdown",
      "metadata": {
        "id": "view-in-github",
        "colab_type": "text"
      },
      "source": [
        "<a href=\"https://colab.research.google.com/github/yoyo1022/Introduciton-to-Data-Science/blob/master/IDS_week3_A107260009_%E9%84%AD%E5%8F%B3%E7%90%B3.ipynb\" target=\"_parent\"><img src=\"https://colab.research.google.com/assets/colab-badge.svg\" alt=\"Open In Colab\"/></a>"
      ]
    },
    {
      "cell_type": "code",
      "metadata": {
        "id": "YozjKLVaaEne",
        "colab_type": "code",
        "outputId": "a1900304-e28d-4d0a-9159-99f06b9f00ec",
        "colab": {
          "base_uri": "https://localhost:8080/",
          "height": 121
        }
      },
      "source": [
        "movie_time = \"181\"\n",
        "movie_rating = \"8.5\"\n",
        "movie_title = \"Avengers: Endgame\"\n",
        "\n",
        "print(movie_time) \n",
        "print(movie_rating) \n",
        "print(movie_title)\n",
        "\n",
        "print(type(movie_time)) \n",
        "print(type(movie_rating)) \n",
        "print(type(movie_title))"
      ],
      "execution_count": 2,
      "outputs": [
        {
          "output_type": "stream",
          "text": [
            "181\n",
            "8.5\n",
            "Avengers: Endgame\n",
            "<class 'str'>\n",
            "<class 'str'>\n",
            "<class 'str'>\n"
          ],
          "name": "stdout"
        }
      ]
    }
  ]
}