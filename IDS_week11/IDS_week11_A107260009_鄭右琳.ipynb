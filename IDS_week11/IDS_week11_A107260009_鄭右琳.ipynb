{
 "cells": [
  {
   "cell_type": "code",
   "execution_count": 1,
   "metadata": {},
   "outputs": [
    {
     "name": "stdout",
     "output_type": "stream",
     "text": [
      "[2, 3, 5, 7, 13]\n"
     ]
    }
   ],
   "source": [
    "primes_list = [2, 3, 5, 7, 11]\n",
    "primes_list[-1] = 13 # update\n",
    "print(primes_list)"
   ]
  },
  {
   "cell_type": "code",
   "execution_count": 2,
   "metadata": {},
   "outputs": [
    {
     "name": "stdout",
     "output_type": "stream",
     "text": [
      "[2, 3, 5, 7, 11, 13]\n"
     ]
    }
   ],
   "source": [
    "primes_list.insert(-1, 11) # increase length\n",
    "print(primes_list)"
   ]
  },
  {
   "cell_type": "code",
   "execution_count": 3,
   "metadata": {},
   "outputs": [
    {
     "name": "stdout",
     "output_type": "stream",
     "text": [
      "[2, 3, 5, 7, 11]\n"
     ]
    }
   ],
   "source": [
    "primes_list.pop()\n",
    "print(primes_list)"
   ]
  },
  {
   "cell_type": "code",
   "execution_count": 4,
   "metadata": {},
   "outputs": [
    {
     "name": "stdout",
     "output_type": "stream",
     "text": [
      "<class 'float'>\n",
      "(1, 4)\n",
      "<class 'tuple'>\n"
     ]
    }
   ],
   "source": [
    "x = 0.25\n",
    "print(type(x))\n",
    "print(x.as_integer_ratio())\n",
    "print(type(x.as_integer_ratio()))"
   ]
  },
  {
   "cell_type": "code",
   "execution_count": 5,
   "metadata": {},
   "outputs": [
    {
     "name": "stdout",
     "output_type": "stream",
     "text": [
      "('Taipei', 'Taiwan')\n",
      "<class 'tuple'>\n"
     ]
    }
   ],
   "source": [
    "def where_are_you_from(city, country):\n",
    "    return city, country\n",
    "\n",
    "print(where_are_you_from(\"Taipei\", \"Taiwan\"))\n",
    "print(type(where_are_you_from(\"Taipei\", \"Taiwan\")))"
   ]
  },
  {
   "cell_type": "code",
   "execution_count": 6,
   "metadata": {},
   "outputs": [
    {
     "name": "stdout",
     "output_type": "stream",
     "text": [
      "Taipei\n",
      "Taiwan\n"
     ]
    }
   ],
   "source": [
    "my_city, my_country = where_are_you_from(\"Taipei\", \"Taiwan\")\n",
    "print(my_city)\n",
    "print(my_country)"
   ]
  },
  {
   "cell_type": "code",
   "execution_count": 8,
   "metadata": {},
   "outputs": [
    {
     "name": "stdout",
     "output_type": "stream",
     "text": [
      "請輸入您的居住縣市:臺北市\n",
      "臺北市的每人每月最低生活費為17,005\n"
     ]
    }
   ],
   "source": [
    "living_area = input(\"請輸入您的居住縣市:\")\n",
    "living_cost = None\n",
    "if living_area == '臺北市':\n",
    "    living_cost = 17005\n",
    "elif living_area == '新北市':\n",
    "    living_cost = 15500\n",
    "elif living_area == '桃園市':\n",
    "    living_cost = 15281\n",
    "elif living_area == '臺中市':\n",
    "    living_cost = 14596\n",
    "elif living_area == '臺南市':\n",
    "    living_cost = 12388\n",
    "elif living_area == '高雄市':\n",
    "    living_cost = 13099\n",
    "elif living_area == '非六都之縣市':\n",
    "    living_cost = 12388\n",
    "elif living_area == '金門縣連江縣':\n",
    "    living_cost = 11648\n",
    "\n",
    "if living_cost is None:\n",
    "    print(\"請重新輸入居住縣市\")\n",
    "else:\n",
    "    print(\"{}的每人每月最低生活費為{:,}\".format(living_area, living_cost))"
   ]
  },
  {
   "cell_type": "code",
   "execution_count": 9,
   "metadata": {},
   "outputs": [
    {
     "name": "stdout",
     "output_type": "stream",
     "text": [
      "請輸入您的居住縣市:新北市\n",
      "新北市的每人每月最低生活費為15,500\n"
     ]
    }
   ],
   "source": [
    "living_cost_dict = {\n",
    "    '臺北市': 17005,\n",
    "    '新北市': 15500,\n",
    "    '桃園市': 15281,\n",
    "    '臺中市': 14596,\n",
    "    '臺南市': 12388,\n",
    "    '高雄市': 13099,\n",
    "    '非六都之縣市': 12388,\n",
    "    '金門縣連江縣': 11648\n",
    "}\n",
    "living_area = input(\"請輸入您的居住縣市:\")\n",
    "try:\n",
    "    living_cost = living_cost_dict[living_area]\n",
    "    print(\"{}的每人每月最低生活費為{:,}\".format(living_area, living_cost))\n",
    "except KeyError:\n",
    "    print(\"請重新輸入居住縣市\")"
   ]
  },
  {
   "cell_type": "code",
   "execution_count": 10,
   "metadata": {},
   "outputs": [
    {
     "data": {
      "text/plain": [
       "2"
      ]
     },
     "execution_count": 10,
     "metadata": {},
     "output_type": "execute_result"
    }
   ],
   "source": [
    "primes_list = [2, 3, 5, 7, 11]\n",
    "I = iter(primes_list)\n",
    "next(I)"
   ]
  },
  {
   "cell_type": "code",
   "execution_count": 11,
   "metadata": {},
   "outputs": [
    {
     "data": {
      "text/plain": [
       "'臺北市'"
      ]
     },
     "execution_count": 11,
     "metadata": {},
     "output_type": "execute_result"
    }
   ],
   "source": [
    "I = iter(living_cost_dict.keys())\n",
    "next(I)"
   ]
  },
  {
   "cell_type": "code",
   "execution_count": 12,
   "metadata": {},
   "outputs": [
    {
     "data": {
      "text/plain": [
       "('臺北市', 17005)"
      ]
     },
     "execution_count": 12,
     "metadata": {},
     "output_type": "execute_result"
    }
   ],
   "source": [
    "I = iter(living_cost_dict.items())\n",
    "next(I)"
   ]
  },
  {
   "cell_type": "code",
   "execution_count": 13,
   "metadata": {},
   "outputs": [
    {
     "name": "stdout",
     "output_type": "stream",
     "text": [
      "1\n",
      "2\n",
      "3\n",
      "4\n",
      "5\n",
      "6\n",
      "7\n",
      "8\n",
      "9\n",
      "10\n",
      "11\n",
      "12\n",
      "13\n",
      "14\n",
      "15\n",
      "16\n",
      "17\n",
      "18\n",
      "19\n",
      "20\n",
      "21\n",
      "22\n",
      "23\n",
      "24\n",
      "25\n",
      "26\n",
      "27\n",
      "28\n",
      "29\n",
      "30\n",
      "31\n",
      "32\n",
      "33\n",
      "34\n",
      "35\n",
      "36\n",
      "37\n",
      "38\n",
      "39\n",
      "40\n",
      "41\n",
      "42\n",
      "43\n",
      "44\n",
      "45\n",
      "46\n",
      "47\n",
      "48\n",
      "49\n",
      "50\n",
      "51\n",
      "52\n",
      "53\n",
      "54\n",
      "55\n",
      "56\n",
      "57\n",
      "58\n",
      "59\n",
      "60\n",
      "61\n",
      "62\n",
      "63\n",
      "64\n",
      "65\n",
      "66\n",
      "67\n",
      "68\n",
      "69\n",
      "70\n",
      "71\n",
      "72\n",
      "73\n",
      "74\n",
      "75\n",
      "76\n",
      "77\n",
      "78\n",
      "79\n",
      "80\n",
      "81\n",
      "82\n",
      "83\n",
      "84\n",
      "85\n",
      "86\n",
      "87\n",
      "88\n",
      "89\n",
      "90\n",
      "91\n",
      "92\n",
      "93\n",
      "94\n",
      "95\n",
      "96\n",
      "97\n",
      "98\n",
      "99\n",
      "100\n"
     ]
    }
   ],
   "source": [
    "for i in range(1, 101, 1):\n",
    "    print(i)"
   ]
  },
  {
   "cell_type": "code",
   "execution_count": null,
   "metadata": {},
   "outputs": [],
   "source": []
  }
 ],
 "metadata": {
  "kernelspec": {
   "display_name": "Python 3",
   "language": "python",
   "name": "python3"
  },
  "language_info": {
   "codemirror_mode": {
    "name": "ipython",
    "version": 3
   },
   "file_extension": ".py",
   "mimetype": "text/x-python",
   "name": "python",
   "nbconvert_exporter": "python",
   "pygments_lexer": "ipython3",
   "version": "3.7.6"
  }
 },
 "nbformat": 4,
 "nbformat_minor": 4
}
