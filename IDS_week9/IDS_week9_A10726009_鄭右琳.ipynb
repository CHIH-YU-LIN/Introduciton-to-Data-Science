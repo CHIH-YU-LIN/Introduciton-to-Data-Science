{
 "cells": [
  {
   "cell_type": "code",
   "execution_count": 1,
   "metadata": {},
   "outputs": [
    {
     "name": "stdout",
     "output_type": "stream",
     "text": [
      "請輸入起始的整數:5\n",
      "請輸入終止的整數:10\n",
      "5\n",
      "7\n",
      "9\n"
     ]
    }
   ],
   "source": [
    "x = int(input(\"請輸入起始的整數:\"))\n",
    "y = int(input(\"請輸入終止的整數:\"))\n",
    "i = x # start\n",
    "while i <= y: # stop\n",
    "    # task\n",
    "    if i % 2 == 1:\n",
    "        print(i)\n",
    "    i += 1 # step"
   ]
  },
  {
   "cell_type": "code",
   "execution_count": 2,
   "metadata": {},
   "outputs": [
    {
     "name": "stdout",
     "output_type": "stream",
     "text": [
      "請輸入起始的整數:5\n",
      "請輸入終止的整數:10\n",
      "======\n",
      "3\n"
     ]
    }
   ],
   "source": [
    "x = int(input(\"請輸入起始的整數:\"))\n",
    "y = int(input(\"請輸入終止的整數:\"))\n",
    "odd_counter = 0 # 歸零\n",
    "i = x # start\n",
    "while i <= y: # stop\n",
    "    # task\n",
    "    if i % 2 == 1:\n",
    "        #odd_counter = odd_counter + 1 # = NOT ==\n",
    "        odd_counter += 1 # 計數累計\n",
    "    #print(odd_counter)\n",
    "    i += 1 # step\n",
    "print(\"======\")\n",
    "print(odd_counter)"
   ]
  },
  {
   "cell_type": "code",
   "execution_count": 3,
   "metadata": {},
   "outputs": [
    {
     "name": "stdout",
     "output_type": "stream",
     "text": [
      "請輸入起始的整數:5\n",
      "請輸入終止的整數:10\n",
      "======\n",
      "21\n"
     ]
    }
   ],
   "source": [
    "x = int(input(\"請輸入起始的整數:\"))\n",
    "y = int(input(\"請輸入終止的整數:\"))\n",
    "odd_summation = 0 # 歸零\n",
    "i = x # start\n",
    "while i <= y: # stop\n",
    "    # task\n",
    "    if i % 2 == 1:\n",
    "        odd_summation = odd_summation + i # 數值累加\n",
    "    i += 1 # step\n",
    "print(\"======\")\n",
    "print(odd_summation)"
   ]
  },
  {
   "cell_type": "code",
   "execution_count": 4,
   "metadata": {},
   "outputs": [
    {
     "name": "stdout",
     "output_type": "stream",
     "text": [
      "請輸入起始的整數:5\n",
      "請輸入終止的整數:10\n",
      "現在的整數是:5, 奇數計數為1個, 總和為5\n",
      "現在的整數是:6, 奇數計數為1個, 總和為5\n",
      "現在的整數是:7, 奇數計數為2個, 總和為12\n",
      "現在的整數是:8, 奇數計數為2個, 總和為12\n",
      "現在的整數是:9, 奇數計數為3個, 總和為21\n",
      "現在的整數是:10, 奇數計數為3個, 總和為21\n",
      "======\n",
      "3\n",
      "21\n"
     ]
    }
   ],
   "source": [
    "x = int(input(\"請輸入起始的整數:\"))\n",
    "y = int(input(\"請輸入終止的整數:\"))\n",
    "odd_summation = 0 # 歸零\n",
    "odd_counter = 0\n",
    "i = x # start\n",
    "while i <= y: # stop\n",
    "    # task\n",
    "    if i % 2 == 1:\n",
    "        odd_counter += 1 # 計數累計\n",
    "        odd_summation += i # 數值累加\n",
    "        print(\"現在的整數是:{}, 奇數計數為{}個, 總和為{}\".format(i, odd_counter, odd_summation))\n",
    "    else:\n",
    "        print(\"現在的整數是:{}, 奇數計數為{}個, 總和為{}\".format(i, odd_counter, odd_summation))\n",
    "    i += 1 # step\n",
    "print(\"======\")\n",
    "print(odd_counter)\n",
    "print(odd_summation)"
   ]
  },
  {
   "cell_type": "code",
   "execution_count": 5,
   "metadata": {},
   "outputs": [
    {
     "name": "stdout",
     "output_type": "stream",
     "text": [
      "請輸入一個正整數:16\n",
      "16可以被1整除\n",
      "因數個數目前有1個\n",
      "======\n",
      "16可以被2整除\n",
      "因數個數目前有2個\n",
      "======\n",
      "16可以被4整除\n",
      "因數個數目前有3個\n",
      "======\n",
      "16可以被8整除\n",
      "因數個數目前有4個\n",
      "======\n",
      "16可以被16整除\n",
      "因數個數目前有5個\n",
      "======\n",
      "### Answer ###\n",
      "總共執行了16次迴圈\n",
      "16共有5個因數\n",
      "16不是質數\n"
     ]
    }
   ],
   "source": [
    "x = int(input(\"請輸入一個正整數:\"))\n",
    "i = 1 # start\n",
    "divisor_counter = 0 # 歸零\n",
    "while i <= x: # stop\n",
    "    if x % i == 0:\n",
    "        divisor_counter += 1\n",
    "        print(\"{}可以被{}整除\".format(x, i))\n",
    "        print(\"因數個數目前有{}個\".format(divisor_counter))\n",
    "        print(\"======\")\n",
    "    i += 1 # step\n",
    "print(\"### Answer ###\")\n",
    "print(\"總共執行了{}次迴圈\".format(i - 1))\n",
    "print(\"{}共有{}個因數\".format(x, divisor_counter))\n",
    "if divisor_counter == 2:\n",
    "    print(\"{}是質數\".format(x))\n",
    "else:\n",
    "    print(\"{}不是質數\".format(x))"
   ]
  },
  {
   "cell_type": "code",
   "execution_count": 6,
   "metadata": {},
   "outputs": [
    {
     "name": "stdout",
     "output_type": "stream",
     "text": [
      "請輸入一個正整數:11\n",
      "11可以被1整除\n",
      "因數個數目前有1個\n",
      "======\n",
      "11可以被11整除\n",
      "因數個數目前有2個\n",
      "======\n",
      "### Answer ###\n",
      "總共執行了11次迴圈\n",
      "11是質數\n"
     ]
    }
   ],
   "source": [
    "x = int(input(\"請輸入一個正整數:\"))\n",
    "i = 1 # start\n",
    "divisor_counter = 0 # 歸零\n",
    "while i <= x: # stop\n",
    "    if x % i == 0:\n",
    "        divisor_counter += 1\n",
    "        print(\"{}可以被{}整除\".format(x, i))\n",
    "        print(\"因數個數目前有{}個\".format(divisor_counter))\n",
    "        print(\"======\")\n",
    "    i += 1 # step\n",
    "    if divisor_counter > 2:\n",
    "        break\n",
    "print(\"### Answer ###\")\n",
    "print(\"總共執行了{}次迴圈\".format(i - 1))\n",
    "if divisor_counter == 2:\n",
    "    print(\"{}是質數\".format(x))\n",
    "else:\n",
    "    print(\"{}不是質數\".format(x))"
   ]
  },
  {
   "cell_type": "code",
   "execution_count": 7,
   "metadata": {},
   "outputs": [
    {
     "name": "stdout",
     "output_type": "stream",
     "text": [
      "1\n",
      "2\n",
      "Fizz\n",
      "4\n",
      "Buzz\n",
      "Fizz\n",
      "7\n",
      "8\n",
      "Fizz\n",
      "Buzz\n",
      "11\n",
      "Fizz\n",
      "13\n",
      "14\n",
      "Fizz Buzz\n",
      "16\n",
      "17\n",
      "Fizz\n",
      "19\n",
      "Buzz\n",
      "Fizz\n",
      "22\n",
      "23\n",
      "Fizz\n",
      "Buzz\n",
      "26\n",
      "Fizz\n",
      "28\n",
      "29\n",
      "Fizz Buzz\n",
      "31\n",
      "32\n",
      "Fizz\n",
      "34\n",
      "Buzz\n",
      "Fizz\n",
      "37\n",
      "38\n",
      "Fizz\n",
      "Buzz\n",
      "41\n",
      "Fizz\n",
      "43\n",
      "44\n",
      "Fizz Buzz\n",
      "46\n",
      "47\n",
      "Fizz\n",
      "49\n",
      "Buzz\n",
      "Fizz\n",
      "52\n",
      "53\n",
      "Fizz\n",
      "Buzz\n",
      "56\n",
      "Fizz\n",
      "58\n",
      "59\n",
      "Fizz Buzz\n",
      "61\n",
      "62\n",
      "Fizz\n",
      "64\n",
      "Buzz\n",
      "Fizz\n",
      "67\n",
      "68\n",
      "Fizz\n",
      "Buzz\n",
      "71\n",
      "Fizz\n",
      "73\n",
      "74\n",
      "Fizz Buzz\n",
      "76\n",
      "77\n",
      "Fizz\n",
      "79\n",
      "Buzz\n",
      "Fizz\n",
      "82\n",
      "83\n",
      "Fizz\n",
      "Buzz\n",
      "86\n",
      "Fizz\n",
      "88\n",
      "89\n",
      "Fizz Buzz\n",
      "91\n",
      "92\n",
      "Fizz\n",
      "94\n",
      "Buzz\n",
      "Fizz\n",
      "97\n",
      "98\n",
      "Fizz\n",
      "Buzz\n"
     ]
    }
   ],
   "source": [
    "i = 1 # start\n",
    "while i <= 100: # stop\n",
    "    if i % 15 == 0:\n",
    "        print(\"Fizz Buzz\")\n",
    "    elif i % 3 == 0:\n",
    "        print(\"Fizz\")\n",
    "    elif i % 5 == 0:\n",
    "        print(\"Buzz\")\n",
    "    else:\n",
    "        print(i)\n",
    "    i += 1 # step"
   ]
  },
  {
   "cell_type": "code",
   "execution_count": null,
   "metadata": {},
   "outputs": [],
   "source": []
  }
 ],
 "metadata": {
  "kernelspec": {
   "display_name": "Python 3",
   "language": "python",
   "name": "python3"
  },
  "language_info": {
   "codemirror_mode": {
    "name": "ipython",
    "version": 3
   },
   "file_extension": ".py",
   "mimetype": "text/x-python",
   "name": "python",
   "nbconvert_exporter": "python",
   "pygments_lexer": "ipython3",
   "version": "3.7.6"
  }
 },
 "nbformat": 4,
 "nbformat_minor": 4
}
