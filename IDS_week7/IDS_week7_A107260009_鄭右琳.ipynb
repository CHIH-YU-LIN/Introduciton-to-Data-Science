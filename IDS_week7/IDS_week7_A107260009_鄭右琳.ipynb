{
 "cells": [
  {
   "cell_type": "code",
   "execution_count": 1,
   "metadata": {},
   "outputs": [
    {
     "name": "stdout",
     "output_type": "stream",
     "text": [
      "請輸入月薪：60000\n",
      "請輸入存款：450000\n",
      "發信用卡\n"
     ]
    }
   ],
   "source": [
    "monthly_income = input(\"請輸入月薪：\") \n",
    "saving_account = input(\"請輸入存款：\")\n",
    "monthly_income = int(monthly_income)\n",
    "saving_account = int(saving_account)\n",
    "ans = \"發信用卡\"\n",
    "if monthly_income > 40000 or saving_account > 500000 :\n",
    "    print(ans)"
   ]
  },
  {
   "cell_type": "code",
   "execution_count": 3,
   "metadata": {},
   "outputs": [
    {
     "name": "stdout",
     "output_type": "stream",
     "text": [
      "請輸入一個正整數：5566\n",
      "5566是偶數\n"
     ]
    }
   ],
   "source": [
    "user_int = input(\"請輸入一個正整數：\")\n",
    "user_int = int(user_int)\n",
    "if user_int % 2 == 0 :\n",
    "    print(\"{}是偶數\".format(user_int))\n",
    "else:\n",
    "    print(\"{}是奇數\".format(user_int))"
   ]
  },
  {
   "cell_type": "code",
   "execution_count": 4,
   "metadata": {},
   "outputs": [
    {
     "name": "stdout",
     "output_type": "stream",
     "text": [
      "請輸入一個正整數：7788\n",
      "7788是偶數\n"
     ]
    }
   ],
   "source": [
    "user_int = input(\"請輸入一個正整數：\")\n",
    "user_int = int(user_int)\n",
    "if user_int % 2 == 0 :\n",
    "    print(\"{}是偶數\".format(user_int))\n",
    "else:\n",
    "    print(\"{}是奇數\".format(user_int))"
   ]
  },
  {
   "cell_type": "code",
   "execution_count": 5,
   "metadata": {},
   "outputs": [
    {
     "name": "stdout",
     "output_type": "stream",
     "text": [
      "請輸入一個正整數：8899\n",
      "8899是奇數\n"
     ]
    }
   ],
   "source": [
    "user_int = input(\"請輸入一個正整數：\")\n",
    "user_int = int(user_int)\n",
    "if user_int % 2 == 0 :\n",
    "    print(\"{}是偶數\".format(user_int))\n",
    "else:\n",
    "    print(\"{}是奇數\".format(user_int))"
   ]
  },
  {
   "cell_type": "code",
   "execution_count": 7,
   "metadata": {},
   "outputs": [
    {
     "name": "stdout",
     "output_type": "stream",
     "text": [
      "請輸入您身分證字號的尾數：9\n",
      "星期一三五日領\n"
     ]
    }
   ],
   "source": [
    "id_last_digit = input(\"請輸入您身分證字號的尾數：\")\n",
    "id_last_digit= int(id_last_digit)\n",
    "if id_last_digit % 2 ==1 :\n",
    "    print(\"星期一三五日領\")\n",
    "else:\n",
    "    print(\"星期二四六日領\")"
   ]
  },
  {
   "cell_type": "code",
   "execution_count": 8,
   "metadata": {},
   "outputs": [
    {
     "name": "stdout",
     "output_type": "stream",
     "text": [
      "請輸入您身分證字號的尾數：6\n",
      "星期二四六日領\n"
     ]
    }
   ],
   "source": [
    "id_last_digit = input(\"請輸入您身分證字號的尾數：\")\n",
    "id_last_digit= int(id_last_digit)\n",
    "if id_last_digit % 2 ==1 :\n",
    "    print(\"星期一三五日領\")\n",
    "else:\n",
    "    print(\"星期二四六日領\")"
   ]
  },
  {
   "cell_type": "code",
   "execution_count": 9,
   "metadata": {},
   "outputs": [
    {
     "name": "stdout",
     "output_type": "stream",
     "text": [
      "請輸入身高（公分）：180\n",
      "請輸入體重（公斤）：79\n",
      "Normal weight\n"
     ]
    }
   ],
   "source": [
    "input_height = float(input(\"請輸入身高（公分）：\"))\n",
    "input_weight = float(input(\"請輸入體重（公斤）：\"))\n",
    "bmi = input_weight / (input_height*0.01)**2\n",
    "if bmi > 30:\n",
    "    label = \"Obese\"\n",
    "elif bmi > 25:\n",
    "    label = \"Overweight\"\n",
    "elif bmi > 18.5:\n",
    "    label = \"Normal weight\"\n",
    "elif bmi <= 18.5:\n",
    "    label = \"Underweight\"\n",
    "print(label)"
   ]
  },
  {
   "cell_type": "code",
   "execution_count": null,
   "metadata": {},
   "outputs": [],
   "source": []
  }
 ],
 "metadata": {
  "kernelspec": {
   "display_name": "Python 3",
   "language": "python",
   "name": "python3"
  },
  "language_info": {
   "codemirror_mode": {
    "name": "ipython",
    "version": 3
   },
   "file_extension": ".py",
   "mimetype": "text/x-python",
   "name": "python",
   "nbconvert_exporter": "python",
   "pygments_lexer": "ipython3",
   "version": "3.7.6"
  }
 },
 "nbformat": 4,
 "nbformat_minor": 4
}
