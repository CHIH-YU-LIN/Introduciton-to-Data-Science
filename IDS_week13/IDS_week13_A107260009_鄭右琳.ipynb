{
 "cells": [
  {
   "cell_type": "code",
   "execution_count": 1,
   "metadata": {},
   "outputs": [
    {
     "name": "stdout",
     "output_type": "stream",
     "text": [
      "a\n",
      "o\n",
      "o\n",
      "e\n",
      "a\n",
      "5\n"
     ]
    }
   ],
   "source": [
    "n_vowels = 0\n",
    "for i in 'azcbobobegghakl':\n",
    "  if i in ['a','e','i','o','u']:\n",
    "    print(i)\n",
    "    n_vowels +=1\n",
    "print(n_vowels)"
   ]
  },
  {
   "cell_type": "code",
   "execution_count": 2,
   "metadata": {},
   "outputs": [
    {
     "name": "stdout",
     "output_type": "stream",
     "text": [
      "15\n",
      "azc\n",
      "zcb\n",
      "cbo\n",
      "bob\n",
      "obo\n",
      "bob\n",
      "obe\n",
      "beg\n",
      "egg\n",
      "ggh\n",
      "gha\n",
      "hak\n"
     ]
    }
   ],
   "source": [
    "test_str = 'azcbobobegghakl'\n",
    "n_char = len(test_str)\n",
    "print(n_char)\n",
    "for i in range(12):\n",
    "  print(test_str[i:i+3])"
   ]
  },
  {
   "cell_type": "code",
   "execution_count": 3,
   "metadata": {},
   "outputs": [
    {
     "name": "stdout",
     "output_type": "stream",
     "text": [
      "2\n"
     ]
    }
   ],
   "source": [
    "test_str = 'azcbobobegghak'\n",
    "n_char = len(test_str)\n",
    "n_bobs = 0\n",
    "for i in range(n_char - 2):\n",
    "    #print(test_str[i:i+3])\n",
    "    if test_str[i:i+3] == 'bob':\n",
    "        n_bobs += 1\n",
    "print(n_bobs)"
   ]
  },
  {
   "cell_type": "code",
   "execution_count": 6,
   "metadata": {},
   "outputs": [
    {
     "name": "stdout",
     "output_type": "stream",
     "text": [
      "29.011491975882016\n"
     ]
    }
   ],
   "source": [
    "x = list(range(1, 101))\n",
    "N = len(x)\n",
    "x_bar = sum(x) / N\n",
    "sse = 0\n",
    "for xi in x:\n",
    "  # error = xi - x_bar\n",
    "  squared_error = (xi - x_bar)**2\n",
    "  sse += squared_error # sse = sse + squared_error\n",
    "sample_mse = sse / (N-1)\n",
    "sample_stdev = sample_mse**(0.5)\n",
    "print(sample_stdev)"
   ]
  },
  {
   "cell_type": "code",
   "execution_count": 8,
   "metadata": {},
   "outputs": [],
   "source": [
    "def get_fahrenheit(x):\n",
    "    \"\"\"\n",
    "    Transform a Celsius degree into  Farenheit scale\n",
    "    \"\"\"\n",
    "    fah = x * 9/5 + 32\n",
    "    return fah"
   ]
  },
  {
   "cell_type": "code",
   "execution_count": 9,
   "metadata": {},
   "outputs": [
    {
     "data": {
      "text/plain": [
       "89.6"
      ]
     },
     "execution_count": 9,
     "metadata": {},
     "output_type": "execute_result"
    }
   ],
   "source": [
    "get_fahrenheit(32)"
   ]
  },
  {
   "cell_type": "code",
   "execution_count": 10,
   "metadata": {},
   "outputs": [],
   "source": [
    "def get_bmi(height, weight):\n",
    "    \"\"\"\n",
    "    Calculate BMI based on height and weight\n",
    "    \"\"\"\n",
    "    height = height / 100\n",
    "    bmi = weight / height**2\n",
    "    return bmi"
   ]
  },
  {
   "cell_type": "code",
   "execution_count": 11,
   "metadata": {},
   "outputs": [
    {
     "data": {
      "text/plain": [
       "23.76543209876543"
      ]
     },
     "execution_count": 11,
     "metadata": {},
     "output_type": "execute_result"
    }
   ],
   "source": [
    "get_bmi(180, 77)"
   ]
  },
  {
   "cell_type": "code",
   "execution_count": 12,
   "metadata": {},
   "outputs": [],
   "source": [
    "def is_prime(x):\n",
    "  \"\"\"\n",
    "  Retuen True if x is a prime, or return False\n",
    "  \"\"\"\n",
    "  divisors = []\n",
    "  for i in range(1, x+1):\n",
    "    if x % i ==0:\n",
    "      divisors.append(i)\n",
    "  n_divisors = len(divisors)\n",
    "  return n_divisors == 2"
   ]
  },
  {
   "cell_type": "code",
   "execution_count": 13,
   "metadata": {},
   "outputs": [
    {
     "data": {
      "text/plain": [
       "True"
      ]
     },
     "execution_count": 13,
     "metadata": {},
     "output_type": "execute_result"
    }
   ],
   "source": [
    "is_prime(11)"
   ]
  },
  {
   "cell_type": "code",
   "execution_count": 14,
   "metadata": {},
   "outputs": [
    {
     "data": {
      "text/plain": [
       "False"
      ]
     },
     "execution_count": 14,
     "metadata": {},
     "output_type": "execute_result"
    }
   ],
   "source": [
    "is_prime(9)"
   ]
  },
  {
   "cell_type": "code",
   "execution_count": 15,
   "metadata": {},
   "outputs": [
    {
     "data": {
      "text/plain": [
       "False"
      ]
     },
     "execution_count": 15,
     "metadata": {},
     "output_type": "execute_result"
    }
   ],
   "source": [
    "is_prime(91)"
   ]
  },
  {
   "cell_type": "code",
   "execution_count": 16,
   "metadata": {},
   "outputs": [
    {
     "data": {
      "text/plain": [
       "True"
      ]
     },
     "execution_count": 16,
     "metadata": {},
     "output_type": "execute_result"
    }
   ],
   "source": [
    "is_prime(23)"
   ]
  },
  {
   "cell_type": "code",
   "execution_count": null,
   "metadata": {},
   "outputs": [],
   "source": []
  }
 ],
 "metadata": {
  "kernelspec": {
   "display_name": "Python 3",
   "language": "python",
   "name": "python3"
  },
  "language_info": {
   "codemirror_mode": {
    "name": "ipython",
    "version": 3
   },
   "file_extension": ".py",
   "mimetype": "text/x-python",
   "name": "python",
   "nbconvert_exporter": "python",
   "pygments_lexer": "ipython3",
   "version": "3.7.6"
  }
 },
 "nbformat": 4,
 "nbformat_minor": 4
}
