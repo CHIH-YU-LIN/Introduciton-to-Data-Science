{
 "cells": [
  {
   "cell_type": "code",
   "execution_count": 1,
   "metadata": {},
   "outputs": [
    {
     "name": "stdout",
     "output_type": "stream",
     "text": [
      "77.0\n"
     ]
    }
   ],
   "source": [
    "current_Celsius = 25\n",
    "Fahrenheit = current_Celsius*9/5+32\n",
    "print(Fahrenheit)"
   ]
  },
  {
   "cell_type": "code",
   "execution_count": 2,
   "metadata": {},
   "outputs": [
    {
     "name": "stdout",
     "output_type": "stream",
     "text": [
      "25.0\n"
     ]
    }
   ],
   "source": [
    "current_Fahrenheit = 77\n",
    "Celsius = (Fahrenheit-32)*5/9\n",
    "print(Celsius)"
   ]
  },
  {
   "cell_type": "code",
   "execution_count": 3,
   "metadata": {},
   "outputs": [
    {
     "name": "stdout",
     "output_type": "stream",
     "text": [
      "31.507201646090532\n"
     ]
    }
   ],
   "source": [
    "shaq_weight = 147\n",
    "shaq_height = 216\n",
    "shaq_bmi = shaq_weight/(shaq_height/100)**2\n",
    "print(shaq_bmi)"
   ]
  },
  {
   "cell_type": "code",
   "execution_count": 4,
   "metadata": {},
   "outputs": [
    {
     "name": "stdout",
     "output_type": "stream",
     "text": [
      "Let's put aside the fact that you \"accidentally\" pick up my grandmother's ring.\n"
     ]
    }
   ],
   "source": [
    "ross_said = \"\"\"Let's put aside the fact that you \"accidentally\" pick up my grandmother's ring.\"\"\"\n",
    "print(ross_said)"
   ]
  },
  {
   "cell_type": "code",
   "execution_count": 5,
   "metadata": {},
   "outputs": [
    {
     "name": "stdout",
     "output_type": "stream",
     "text": [
      "請輸入城市: 台北\n",
      "請輸入天氣: 晴\n",
      "我在台北，天氣晴\n"
     ]
    }
   ],
   "source": [
    "city = input(\"請輸入城市: \" )\n",
    "weather = input(\"請輸入天氣: \" )\n",
    "print(\"我在{}，天氣{}\".format(city, weather))"
   ]
  },
  {
   "cell_type": "code",
   "execution_count": 6,
   "metadata": {},
   "outputs": [
    {
     "name": "stdout",
     "output_type": "stream",
     "text": [
      "請輸入姓名: 俠客歐尼爾 \n",
      "請輸入身高: 216\n",
      "請輸入體重: 147\n",
      "俠客歐尼爾 的身體質量指數為：31.51\n",
      "俠客歐尼爾 是否過重：True\n"
     ]
    }
   ],
   "source": [
    "name = input(\"請輸入姓名: \")\n",
    "shaq_height = eval(input(\"請輸入身高: \"))\n",
    "shaq_weight = eval(input(\"請輸入體重: \"))\n",
    "shaq_bmi = shaq_weight/(shaq_height/100)**2\n",
    "print(\"{}的身體質量指數為：{:.2f}\".format(name,shaq_bmi)) \n",
    "print(\"{}是否過重：{}\".format(name,shaq_bmi > 30))"
   ]
  },
  {
   "cell_type": "code",
   "execution_count": null,
   "metadata": {},
   "outputs": [],
   "source": []
  }
 ],
 "metadata": {
  "kernelspec": {
   "display_name": "Python 3",
   "language": "python",
   "name": "python3"
  },
  "language_info": {
   "codemirror_mode": {
    "name": "ipython",
    "version": 3
   },
   "file_extension": ".py",
   "mimetype": "text/x-python",
   "name": "python",
   "nbconvert_exporter": "python",
   "pygments_lexer": "ipython3",
   "version": "3.7.6"
  }
 },
 "nbformat": 4,
 "nbformat_minor": 4
}
